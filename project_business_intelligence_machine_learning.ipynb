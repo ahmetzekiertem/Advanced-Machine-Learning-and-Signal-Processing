{
  "cells": [
    {
      "cell_type": "markdown",
      "metadata": {
        "id": "view-in-github",
        "colab_type": "text"
      },
      "source": [
        "<a href=\"https://colab.research.google.com/github/ahmetzekiertem/Advanced-Machine-Learning-and-Signal-Processing/blob/master/project_business_intelligence_machine_learning.ipynb\" target=\"_parent\"><img src=\"https://colab.research.google.com/assets/colab-badge.svg\" alt=\"Open In Colab\"/></a>"
      ]
    },
    {
      "cell_type": "code",
      "execution_count": null,
      "id": "88522ce9",
      "metadata": {
        "id": "88522ce9"
      },
      "outputs": [],
      "source": [
        "pip install ucimlrepo"
      ]
    },
    {
      "cell_type": "code",
      "execution_count": null,
      "id": "084f60eb",
      "metadata": {
        "id": "084f60eb"
      },
      "outputs": [],
      "source": [
        "import numpy as np\n",
        "import pandas as pd\n",
        "import seaborn as sns\n",
        "from sklearn.neighbors import KNeighborsClassifier\n",
        "from sklearn import tree\n",
        "from sklearn.naive_bayes import GaussianNB\n",
        "from sklearn.ensemble import RandomForestClassifier"
      ]
    },
    {
      "cell_type": "code",
      "execution_count": null,
      "id": "08594d50",
      "metadata": {
        "id": "08594d50"
      },
      "outputs": [],
      "source": [
        "from ucimlrepo import fetch_ucirepo\n",
        "\n",
        "# fetch dataset\n",
        "adult = fetch_ucirepo(id=2)"
      ]
    },
    {
      "cell_type": "code",
      "execution_count": null,
      "id": "37a790ee",
      "metadata": {
        "id": "37a790ee"
      },
      "outputs": [],
      "source": [
        "# data (as pandas dataframes)\n",
        "X = adult.data.features\n",
        "y = adult.data.targets\n",
        "\n",
        "# metadata\n",
        "print(adult.metadata)\n",
        "\n",
        "# variable information\n",
        "print(adult.variables)"
      ]
    },
    {
      "cell_type": "code",
      "execution_count": null,
      "id": "81a1ef12",
      "metadata": {
        "id": "81a1ef12"
      },
      "outputs": [],
      "source": [
        "X.isnull().sum().sum()"
      ]
    },
    {
      "cell_type": "code",
      "execution_count": null,
      "id": "03f5e7d3",
      "metadata": {
        "id": "03f5e7d3"
      },
      "outputs": [],
      "source": [
        "#concat X and y to drop NA\n",
        "df_Xy = pd.concat([X.reset_index(drop=True),y.reset_index(drop=True)], axis=1)"
      ]
    },
    {
      "cell_type": "code",
      "execution_count": null,
      "id": "9318f58c",
      "metadata": {
        "id": "9318f58c"
      },
      "outputs": [],
      "source": [
        "df_Xy=df_Xy.dropna()"
      ]
    },
    {
      "cell_type": "code",
      "execution_count": null,
      "id": "01a9f24d",
      "metadata": {
        "id": "01a9f24d"
      },
      "outputs": [],
      "source": [
        "X = df_Xy.drop(columns=['income'])"
      ]
    },
    {
      "cell_type": "code",
      "execution_count": null,
      "id": "77e3a37c",
      "metadata": {
        "id": "77e3a37c"
      },
      "outputs": [],
      "source": [
        "y = df_Xy['income']"
      ]
    },
    {
      "cell_type": "code",
      "execution_count": null,
      "id": "19d24223",
      "metadata": {
        "id": "19d24223"
      },
      "outputs": [],
      "source": [
        "X = pd.get_dummies(X, drop_first = True)\n",
        "X.head()"
      ]
    },
    {
      "cell_type": "code",
      "execution_count": null,
      "id": "32797a67",
      "metadata": {
        "id": "32797a67"
      },
      "outputs": [],
      "source": [
        "from sklearn.model_selection import train_test_split\n",
        "X_train, X_test, y_train, y_test = train_test_split(X, y, test_size=0.2, random_state=100, stratify=y)"
      ]
    },
    {
      "cell_type": "code",
      "execution_count": null,
      "id": "710d6190",
      "metadata": {
        "id": "710d6190"
      },
      "outputs": [],
      "source": [
        "# Create KNN classifier\n",
        "knn = KNeighborsClassifier(n_neighbors = 4)\n",
        "# Fit the classifier to the data\n",
        "knn.fit(X_train,y_train)\n",
        "knn.score(X_test, y_test)"
      ]
    },
    {
      "cell_type": "code",
      "execution_count": null,
      "id": "88d54bb1",
      "metadata": {
        "id": "88d54bb1"
      },
      "outputs": [],
      "source": [
        "clf = tree.DecisionTreeClassifier()\n",
        "clf.fit(X_train,y_train)\n",
        "clf.score(X_test, y_test)"
      ]
    },
    {
      "cell_type": "code",
      "execution_count": null,
      "id": "16fa1609",
      "metadata": {
        "id": "16fa1609"
      },
      "outputs": [],
      "source": [
        "nb=GaussianNB()\n",
        "nb.fit(X_train,y_train)\n",
        "nb.score(X_test,y_test)"
      ]
    },
    {
      "cell_type": "code",
      "execution_count": null,
      "id": "413a3453",
      "metadata": {
        "id": "413a3453"
      },
      "outputs": [],
      "source": [
        "rf = RandomForestClassifier()\n",
        "rf.fit(X_train, y_train)\n",
        "rf.score(X_test,y_test)"
      ]
    }
  ],
  "metadata": {
    "kernelspec": {
      "display_name": "Python 3",
      "language": "python",
      "name": "python3"
    },
    "language_info": {
      "codemirror_mode": {
        "name": "ipython",
        "version": 3
      },
      "file_extension": ".py",
      "mimetype": "text/x-python",
      "name": "python",
      "nbconvert_exporter": "python",
      "pygments_lexer": "ipython3",
      "version": "3.8.8"
    },
    "colab": {
      "provenance": [],
      "include_colab_link": true
    }
  },
  "nbformat": 4,
  "nbformat_minor": 5
}